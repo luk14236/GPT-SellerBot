{
  "nbformat": 4,
  "nbformat_minor": 0,
  "metadata": {
    "colab": {
      "provenance": [],
      "mount_file_id": "1FLe7Vbr27CQ_Z-EUynK_fUWmI1aSeB8o",
      "authorship_tag": "ABX9TyM6q4SactMCqsgYVSs6GulJ"
    },
    "kernelspec": {
      "name": "python3",
      "display_name": "Python 3"
    },
    "language_info": {
      "name": "python"
    }
  },
  "cells": [
    {
      "cell_type": "code",
      "source": [
        "!pip install openai==0.28"
      ],
      "metadata": {
        "colab": {
          "base_uri": "https://localhost:8080/"
        },
        "id": "PQIkx8hEuBvQ",
        "outputId": "cd1d6c01-e61f-440e-83b5-b2154096887e"
      },
      "execution_count": 1,
      "outputs": [
        {
          "output_type": "stream",
          "name": "stdout",
          "text": [
            "Requirement already satisfied: openai==0.28 in /usr/local/lib/python3.10/dist-packages (0.28.0)\n",
            "Requirement already satisfied: requests>=2.20 in /usr/local/lib/python3.10/dist-packages (from openai==0.28) (2.31.0)\n",
            "Requirement already satisfied: tqdm in /usr/local/lib/python3.10/dist-packages (from openai==0.28) (4.66.2)\n",
            "Requirement already satisfied: aiohttp in /usr/local/lib/python3.10/dist-packages (from openai==0.28) (3.9.3)\n",
            "Requirement already satisfied: charset-normalizer<4,>=2 in /usr/local/lib/python3.10/dist-packages (from requests>=2.20->openai==0.28) (3.3.2)\n",
            "Requirement already satisfied: idna<4,>=2.5 in /usr/local/lib/python3.10/dist-packages (from requests>=2.20->openai==0.28) (3.6)\n",
            "Requirement already satisfied: urllib3<3,>=1.21.1 in /usr/local/lib/python3.10/dist-packages (from requests>=2.20->openai==0.28) (2.0.7)\n",
            "Requirement already satisfied: certifi>=2017.4.17 in /usr/local/lib/python3.10/dist-packages (from requests>=2.20->openai==0.28) (2024.2.2)\n",
            "Requirement already satisfied: aiosignal>=1.1.2 in /usr/local/lib/python3.10/dist-packages (from aiohttp->openai==0.28) (1.3.1)\n",
            "Requirement already satisfied: attrs>=17.3.0 in /usr/local/lib/python3.10/dist-packages (from aiohttp->openai==0.28) (23.2.0)\n",
            "Requirement already satisfied: frozenlist>=1.1.1 in /usr/local/lib/python3.10/dist-packages (from aiohttp->openai==0.28) (1.4.1)\n",
            "Requirement already satisfied: multidict<7.0,>=4.5 in /usr/local/lib/python3.10/dist-packages (from aiohttp->openai==0.28) (6.0.5)\n",
            "Requirement already satisfied: yarl<2.0,>=1.0 in /usr/local/lib/python3.10/dist-packages (from aiohttp->openai==0.28) (1.9.4)\n",
            "Requirement already satisfied: async-timeout<5.0,>=4.0 in /usr/local/lib/python3.10/dist-packages (from aiohttp->openai==0.28) (4.0.3)\n"
          ]
        }
      ]
    },
    {
      "cell_type": "code",
      "execution_count": 12,
      "metadata": {
        "id": "27zrrGO6tJNs"
      },
      "outputs": [],
      "source": [
        "import os\n",
        "import json\n",
        "import openai\n",
        "\n",
        "openai.api_key = \"api-key\"\n",
        "\n",
        "messages = []\n"
      ]
    },
    {
      "cell_type": "code",
      "source": [
        "def question(who, message):\n",
        "  return {\"role\": who, \"content\": message}\n"
      ],
      "metadata": {
        "id": "KBxWUSwezBG3"
      },
      "execution_count": 3,
      "outputs": []
    },
    {
      "cell_type": "code",
      "source": [
        "def call_bff(messages, message):\n",
        "\n",
        "  messages.append(question(\"user\",message))\n",
        "\n",
        "  response = openai.ChatCompletion.create(\n",
        "  model=\"gpt-3.5-turbo\",\n",
        "  messages=messages,\n",
        "  temperature=0.5,\n",
        "  max_tokens=1024\n",
        ")\n",
        "\n",
        "  messages.append(question(\"assistant\",response['choices'][0]['message']['content']))\n",
        "\n",
        "  print(response['choices'][0]['message']['content'])\n",
        "\n",
        "  print(response)\n",
        "\n",
        "  return messages\n"
      ],
      "metadata": {
        "id": "LEXvItO1ytdp"
      },
      "execution_count": 4,
      "outputs": []
    },
    {
      "cell_type": "code",
      "source": [
        "data = None\n",
        "\n",
        "with open('/content/houses.json', 'r') as json_file:\n",
        "    data = json.load(json_file)\n",
        "\n",
        "messages.append(question(\"system\", \"I want you to negotiate (the value mentioned in the data is the cost value, when a customer asks the price should be increased by 10% and during the negotiation the minimal value should be at least 2% more) and answer the questions regarding the products, if you are unsure of the answer inform them that it is necessary to talk to a human. \" + json.dumps(data)))"
      ],
      "metadata": {
        "id": "pdSkZ5ll0EgD"
      },
      "execution_count": 5,
      "outputs": []
    },
    {
      "cell_type": "markdown",
      "source": [],
      "metadata": {
        "id": "P8b8Ljs_WFyO"
      }
    },
    {
      "cell_type": "code",
      "source": [
        "call_bff(messages, \"Do you a new house ?\")"
      ],
      "metadata": {
        "colab": {
          "base_uri": "https://localhost:8080/"
        },
        "id": "kOftcpJh9-vN",
        "outputId": "deffd743-7061-4882-b87e-66d037bd23d4"
      },
      "execution_count": 6,
      "outputs": [
        {
          "output_type": "stream",
          "name": "stdout",
          "text": [
            "Yes, I have several houses available. What are you looking for in a new house?\n",
            "{\n",
            "  \"id\": \"chatcmpl-99DYtvcm0ZCSZssf1iikECmcw7apV\",\n",
            "  \"object\": \"chat.completion\",\n",
            "  \"created\": 1711984111,\n",
            "  \"model\": \"gpt-3.5-turbo-0125\",\n",
            "  \"choices\": [\n",
            "    {\n",
            "      \"index\": 0,\n",
            "      \"message\": {\n",
            "        \"role\": \"assistant\",\n",
            "        \"content\": \"Yes, I have several houses available. What are you looking for in a new house?\"\n",
            "      },\n",
            "      \"logprobs\": null,\n",
            "      \"finish_reason\": \"stop\"\n",
            "    }\n",
            "  ],\n",
            "  \"usage\": {\n",
            "    \"prompt_tokens\": 2156,\n",
            "    \"completion_tokens\": 18,\n",
            "    \"total_tokens\": 2174\n",
            "  },\n",
            "  \"system_fingerprint\": \"fp_b28b39ffa8\"\n",
            "}\n"
          ]
        },
        {
          "output_type": "execute_result",
          "data": {
            "text/plain": [
              "[{'role': 'system',\n",
              "  'content': 'I want you to negotiate (the value mentioned in the data is the cost value, when a customer asks the price should be increased by 10% and during the negotiation the minimal value should be at least 2% more) and answer the questions regarding the products, if you are unsure of the answer inform them that it is necessary to talk to a human. [{\"id\": 1, \"price_usd\": 250000, \"bedrooms\": 3, \"bathrooms\": 2, \"area_sqft\": 1800, \"location\": {\"neighborhood\": \"Downtown\", \"city\": \"New York\", \"state\": \"New York\"}, \"description\": \"Cozy apartment in the heart of Downtown, close to restaurants and shopping.\"}, {\"id\": 2, \"price_usd\": 350000, \"bedrooms\": 4, \"bathrooms\": 3, \"area_sqft\": 2400, \"location\": {\"neighborhood\": \"Brooklyn Heights\", \"city\": \"Brooklyn\", \"state\": \"New York\"}, \"description\": \"Spacious family home with a beautiful view of the Brooklyn Bridge.\"}, {\"id\": 3, \"price_usd\": 180000, \"bedrooms\": 2, \"bathrooms\": 1, \"area_sqft\": 1200, \"location\": {\"neighborhood\": \"Georgetown\", \"city\": \"Washington\", \"state\": \"District of Columbia\"}, \"description\": \"Charming townhouse in a historic neighborhood, perfect for young professionals.\"}, {\"id\": 4, \"price_usd\": 420000, \"bedrooms\": 5, \"bathrooms\": 4, \"area_sqft\": 3200, \"location\": {\"neighborhood\": \"Pacific Heights\", \"city\": \"San Francisco\", \"state\": \"California\"}, \"description\": \"Luxurious mansion with stunning views of the San Francisco Bay.\"}, {\"id\": 5, \"price_usd\": 300000, \"bedrooms\": 3, \"bathrooms\": 2, \"area_sqft\": 2000, \"location\": {\"neighborhood\": \"Beacon Hill\", \"city\": \"Boston\", \"state\": \"Massachusetts\"}, \"description\": \"Classic brownstone with modern updates, located in a historic neighborhood.\"}, {\"id\": 6, \"price_usd\": 280000, \"bedrooms\": 2, \"bathrooms\": 2, \"area_sqft\": 1600, \"location\": {\"neighborhood\": \"Old Town\", \"city\": \"Chicago\", \"state\": \"Illinois\"}, \"description\": \"Quaint duplex in a vibrant neighborhood, walking distance to shops and cafes.\"}, {\"id\": 7, \"price_usd\": 380000, \"bedrooms\": 4, \"bathrooms\": 3, \"area_sqft\": 2800, \"location\": {\"neighborhood\": \"Capitol Hill\", \"city\": \"Seattle\", \"state\": \"Washington\"}, \"description\": \"Modern townhouse with rooftop deck, ideal for entertaining.\"}, {\"id\": 8, \"price_usd\": 270000, \"bedrooms\": 3, \"bathrooms\": 2, \"area_sqft\": 1700, \"location\": {\"neighborhood\": \"Midtown\", \"city\": \"Atlanta\", \"state\": \"Georgia\"}, \"description\": \"Contemporary condo with city views, steps away from restaurants and nightlife.\"}, {\"id\": 9, \"price_usd\": 320000, \"bedrooms\": 3, \"bathrooms\": 2, \"area_sqft\": 1900, \"location\": {\"neighborhood\": \"North End\", \"city\": \"Boston\", \"state\": \"Massachusetts\"}, \"description\": \"Historic rowhouse with original details, nestled in a charming neighborhood.\"}, {\"id\": 10, \"price_usd\": 400000, \"bedrooms\": 4, \"bathrooms\": 3, \"area_sqft\": 2500, \"location\": {\"neighborhood\": \"South Beach\", \"city\": \"Miami\", \"state\": \"Florida\"}, \"description\": \"Beachfront condo with resort-style amenities, perfect for vacation living.\"}, {\"id\": 11, \"price_usd\": 260000, \"bedrooms\": 2, \"bathrooms\": 1, \"area_sqft\": 1500, \"location\": {\"neighborhood\": \"Nob Hill\", \"city\": \"San Francisco\", \"state\": \"California\"}, \"description\": \"Cozy apartment with views of the city skyline, located in a prestigious neighborhood.\"}, {\"id\": 12, \"price_usd\": 330000, \"bedrooms\": 3, \"bathrooms\": 2, \"area_sqft\": 1800, \"location\": {\"neighborhood\": \"Georgetown\", \"city\": \"Washington\", \"state\": \"District of Columbia\"}, \"description\": \"Renovated townhouse with private garden, close to parks and schools.\"}, {\"id\": 13, \"price_usd\": 290000, \"bedrooms\": 3, \"bathrooms\": 2, \"area_sqft\": 1700, \"location\": {\"neighborhood\": \"West Village\", \"city\": \"New York\", \"state\": \"New York\"}, \"description\": \"Charming brownstone with original details, steps away from cafes and boutiques.\"}, {\"id\": 14, \"price_usd\": 370000, \"bedrooms\": 4, \"bathrooms\": 3, \"area_sqft\": 2200, \"location\": {\"neighborhood\": \"Gold Coast\", \"city\": \"Chicago\", \"state\": \"Illinois\"}, \"description\": \"Elegant townhouse with views of Lake Michigan, located in a prestigious neighborhood.\"}, {\"id\": 15, \"price_usd\": 310000, \"bedrooms\": 3, \"bathrooms\": 2, \"area_sqft\": 1900, \"location\": {\"neighborhood\": \"Fenway\", \"city\": \"Boston\", \"state\": \"Massachusetts\"}, \"description\": \"Spacious condo overlooking the ballpark, perfect for sports enthusiasts.\"}, {\"id\": 16, \"price_usd\": 260000, \"bedrooms\": 2, \"bathrooms\": 2, \"area_sqft\": 1600, \"location\": {\"neighborhood\": \"Dupont Circle\", \"city\": \"Washington\", \"state\": \"District of Columbia\"}, \"description\": \"Modern loft with high ceilings and natural light, located in a trendy neighborhood.\"}, {\"id\": 17, \"price_usd\": 340000, \"bedrooms\": 4, \"bathrooms\": 3, \"area_sqft\": 2100, \"location\": {\"neighborhood\": \"Pacific Heights\", \"city\": \"San Francisco\", \"state\": \"California\"}, \"description\": \"Stylish Victorian home with bay views, close to shops and restaurants.\"}, {\"id\": 18, \"price_usd\": 280000, \"bedrooms\": 3, \"bathrooms\": 2, \"area_sqft\": 1800, \"location\": {\"neighborhood\": \"Midtown\", \"city\": \"Atlanta\", \"state\": \"Georgia\"}, \"description\": \"Contemporary townhouse with rooftop terrace, perfect for outdoor entertaining.\"}, {\"id\": 19, \"price_usd\": 300000, \"bedrooms\": 3, \"bathrooms\": 2, \"area_sqft\": 1900, \"location\": {\"neighborhood\": \"Old Town\", \"city\": \"Chicago\", \"state\": \"Illinois\"}, \"description\": \"Historic rowhouse with modern updates, located in a vibrant neighborhood.\"}, {\"id\": 20, \"price_usd\": 370000, \"bedrooms\": 4, \"bathrooms\": 3, \"area_sqft\": 2200, \"location\": {\"neighborhood\": \"Greenwich Village\", \"city\": \"New York\", \"state\": \"New York\"}, \"description\": \"Sophisticated apartment with skyline views, steps away from galleries and theaters.\"}, {\"id\": 21, \"price_usd\": 280000, \"bedrooms\": 2, \"bathrooms\": 2, \"area_sqft\": 1600, \"location\": {\"neighborhood\": \"Belltown\", \"city\": \"Seattle\", \"state\": \"Washington\"}, \"description\": \"Modern condo with city views, close to waterfront parks and attractions.\"}, {\"id\": 22, \"price_usd\": 320000, \"bedrooms\": 3, \"bathrooms\": 2, \"area_sqft\": 1900, \"location\": {\"neighborhood\": \"Fells Point\", \"city\": \"Baltimore\", \"state\": \"Maryland\"}, \"description\": \"Quaint rowhouse with original features, located in a historic waterfront community.\"}, {\"id\": 23, \"price_usd\": 330000, \"bedrooms\": 3, \"bathrooms\": 2, \"area_sqft\": 1800, \"location\": {\"neighborhood\": \"South End\", \"city\": \"Boston\", \"state\": \"Massachusetts\"}, \"description\": \"Victorian home with period details, walking distance to cafes and shops.\"}, {\"id\": 24, \"price_usd\": 290000, \"bedrooms\": 2, \"bathrooms\": 1, \"area_sqft\": 1500, \"location\": {\"neighborhood\": \"Logan Circle\", \"city\": \"Washington\", \"state\": \"District of Columbia\"}, \"description\": \"Cozy apartment in a bustling neighborhood, with easy access to transit.\"}, {\"id\": 25, \"price_usd\": 350000, \"bedrooms\": 4, \"bathrooms\": 3, \"area_sqft\": 2200, \"location\": {\"neighborhood\": \"Mission District\", \"city\": \"San Francisco\", \"state\": \"California\"}, \"description\": \"Hip loft with exposed brick and industrial charm, located in a vibrant neighborhood.\"}]'},\n",
              " {'role': 'user', 'content': 'Do you a new house ?'},\n",
              " {'role': 'assistant',\n",
              "  'content': 'Yes, I have several houses available. What are you looking for in a new house?'}]"
            ]
          },
          "metadata": {},
          "execution_count": 6
        }
      ]
    },
    {
      "cell_type": "code",
      "source": [
        "call_bff(messages, \"I have 3 kids and a wife\")"
      ],
      "metadata": {
        "colab": {
          "base_uri": "https://localhost:8080/"
        },
        "id": "vY3moB7qj9ya",
        "outputId": "d5b64b25-a636-4f67-ab7a-0cd855085c02"
      },
      "execution_count": 7,
      "outputs": [
        {
          "output_type": "stream",
          "name": "stdout",
          "text": [
            "That's great! I can recommend a spacious 4-bedroom house with 3 bathrooms, perfect for a family of five. Would you like more details about this house?\n",
            "{\n",
            "  \"id\": \"chatcmpl-99DZ8U1r06lcCCUH0AwlaSC22nOEQ\",\n",
            "  \"object\": \"chat.completion\",\n",
            "  \"created\": 1711984126,\n",
            "  \"model\": \"gpt-3.5-turbo-0125\",\n",
            "  \"choices\": [\n",
            "    {\n",
            "      \"index\": 0,\n",
            "      \"message\": {\n",
            "        \"role\": \"assistant\",\n",
            "        \"content\": \"That's great! I can recommend a spacious 4-bedroom house with 3 bathrooms, perfect for a family of five. Would you like more details about this house?\"\n",
            "      },\n",
            "      \"logprobs\": null,\n",
            "      \"finish_reason\": \"stop\"\n",
            "    }\n",
            "  ],\n",
            "  \"usage\": {\n",
            "    \"prompt_tokens\": 2190,\n",
            "    \"completion_tokens\": 34,\n",
            "    \"total_tokens\": 2224\n",
            "  },\n",
            "  \"system_fingerprint\": \"fp_b28b39ffa8\"\n",
            "}\n"
          ]
        },
        {
          "output_type": "execute_result",
          "data": {
            "text/plain": [
              "[{'role': 'system',\n",
              "  'content': 'I want you to negotiate (the value mentioned in the data is the cost value, when a customer asks the price should be increased by 10% and during the negotiation the minimal value should be at least 2% more) and answer the questions regarding the products, if you are unsure of the answer inform them that it is necessary to talk to a human. [{\"id\": 1, \"price_usd\": 250000, \"bedrooms\": 3, \"bathrooms\": 2, \"area_sqft\": 1800, \"location\": {\"neighborhood\": \"Downtown\", \"city\": \"New York\", \"state\": \"New York\"}, \"description\": \"Cozy apartment in the heart of Downtown, close to restaurants and shopping.\"}, {\"id\": 2, \"price_usd\": 350000, \"bedrooms\": 4, \"bathrooms\": 3, \"area_sqft\": 2400, \"location\": {\"neighborhood\": \"Brooklyn Heights\", \"city\": \"Brooklyn\", \"state\": \"New York\"}, \"description\": \"Spacious family home with a beautiful view of the Brooklyn Bridge.\"}, {\"id\": 3, \"price_usd\": 180000, \"bedrooms\": 2, \"bathrooms\": 1, \"area_sqft\": 1200, \"location\": {\"neighborhood\": \"Georgetown\", \"city\": \"Washington\", \"state\": \"District of Columbia\"}, \"description\": \"Charming townhouse in a historic neighborhood, perfect for young professionals.\"}, {\"id\": 4, \"price_usd\": 420000, \"bedrooms\": 5, \"bathrooms\": 4, \"area_sqft\": 3200, \"location\": {\"neighborhood\": \"Pacific Heights\", \"city\": \"San Francisco\", \"state\": \"California\"}, \"description\": \"Luxurious mansion with stunning views of the San Francisco Bay.\"}, {\"id\": 5, \"price_usd\": 300000, \"bedrooms\": 3, \"bathrooms\": 2, \"area_sqft\": 2000, \"location\": {\"neighborhood\": \"Beacon Hill\", \"city\": \"Boston\", \"state\": \"Massachusetts\"}, \"description\": \"Classic brownstone with modern updates, located in a historic neighborhood.\"}, {\"id\": 6, \"price_usd\": 280000, \"bedrooms\": 2, \"bathrooms\": 2, \"area_sqft\": 1600, \"location\": {\"neighborhood\": \"Old Town\", \"city\": \"Chicago\", \"state\": \"Illinois\"}, \"description\": \"Quaint duplex in a vibrant neighborhood, walking distance to shops and cafes.\"}, {\"id\": 7, \"price_usd\": 380000, \"bedrooms\": 4, \"bathrooms\": 3, \"area_sqft\": 2800, \"location\": {\"neighborhood\": \"Capitol Hill\", \"city\": \"Seattle\", \"state\": \"Washington\"}, \"description\": \"Modern townhouse with rooftop deck, ideal for entertaining.\"}, {\"id\": 8, \"price_usd\": 270000, \"bedrooms\": 3, \"bathrooms\": 2, \"area_sqft\": 1700, \"location\": {\"neighborhood\": \"Midtown\", \"city\": \"Atlanta\", \"state\": \"Georgia\"}, \"description\": \"Contemporary condo with city views, steps away from restaurants and nightlife.\"}, {\"id\": 9, \"price_usd\": 320000, \"bedrooms\": 3, \"bathrooms\": 2, \"area_sqft\": 1900, \"location\": {\"neighborhood\": \"North End\", \"city\": \"Boston\", \"state\": \"Massachusetts\"}, \"description\": \"Historic rowhouse with original details, nestled in a charming neighborhood.\"}, {\"id\": 10, \"price_usd\": 400000, \"bedrooms\": 4, \"bathrooms\": 3, \"area_sqft\": 2500, \"location\": {\"neighborhood\": \"South Beach\", \"city\": \"Miami\", \"state\": \"Florida\"}, \"description\": \"Beachfront condo with resort-style amenities, perfect for vacation living.\"}, {\"id\": 11, \"price_usd\": 260000, \"bedrooms\": 2, \"bathrooms\": 1, \"area_sqft\": 1500, \"location\": {\"neighborhood\": \"Nob Hill\", \"city\": \"San Francisco\", \"state\": \"California\"}, \"description\": \"Cozy apartment with views of the city skyline, located in a prestigious neighborhood.\"}, {\"id\": 12, \"price_usd\": 330000, \"bedrooms\": 3, \"bathrooms\": 2, \"area_sqft\": 1800, \"location\": {\"neighborhood\": \"Georgetown\", \"city\": \"Washington\", \"state\": \"District of Columbia\"}, \"description\": \"Renovated townhouse with private garden, close to parks and schools.\"}, {\"id\": 13, \"price_usd\": 290000, \"bedrooms\": 3, \"bathrooms\": 2, \"area_sqft\": 1700, \"location\": {\"neighborhood\": \"West Village\", \"city\": \"New York\", \"state\": \"New York\"}, \"description\": \"Charming brownstone with original details, steps away from cafes and boutiques.\"}, {\"id\": 14, \"price_usd\": 370000, \"bedrooms\": 4, \"bathrooms\": 3, \"area_sqft\": 2200, \"location\": {\"neighborhood\": \"Gold Coast\", \"city\": \"Chicago\", \"state\": \"Illinois\"}, \"description\": \"Elegant townhouse with views of Lake Michigan, located in a prestigious neighborhood.\"}, {\"id\": 15, \"price_usd\": 310000, \"bedrooms\": 3, \"bathrooms\": 2, \"area_sqft\": 1900, \"location\": {\"neighborhood\": \"Fenway\", \"city\": \"Boston\", \"state\": \"Massachusetts\"}, \"description\": \"Spacious condo overlooking the ballpark, perfect for sports enthusiasts.\"}, {\"id\": 16, \"price_usd\": 260000, \"bedrooms\": 2, \"bathrooms\": 2, \"area_sqft\": 1600, \"location\": {\"neighborhood\": \"Dupont Circle\", \"city\": \"Washington\", \"state\": \"District of Columbia\"}, \"description\": \"Modern loft with high ceilings and natural light, located in a trendy neighborhood.\"}, {\"id\": 17, \"price_usd\": 340000, \"bedrooms\": 4, \"bathrooms\": 3, \"area_sqft\": 2100, \"location\": {\"neighborhood\": \"Pacific Heights\", \"city\": \"San Francisco\", \"state\": \"California\"}, \"description\": \"Stylish Victorian home with bay views, close to shops and restaurants.\"}, {\"id\": 18, \"price_usd\": 280000, \"bedrooms\": 3, \"bathrooms\": 2, \"area_sqft\": 1800, \"location\": {\"neighborhood\": \"Midtown\", \"city\": \"Atlanta\", \"state\": \"Georgia\"}, \"description\": \"Contemporary townhouse with rooftop terrace, perfect for outdoor entertaining.\"}, {\"id\": 19, \"price_usd\": 300000, \"bedrooms\": 3, \"bathrooms\": 2, \"area_sqft\": 1900, \"location\": {\"neighborhood\": \"Old Town\", \"city\": \"Chicago\", \"state\": \"Illinois\"}, \"description\": \"Historic rowhouse with modern updates, located in a vibrant neighborhood.\"}, {\"id\": 20, \"price_usd\": 370000, \"bedrooms\": 4, \"bathrooms\": 3, \"area_sqft\": 2200, \"location\": {\"neighborhood\": \"Greenwich Village\", \"city\": \"New York\", \"state\": \"New York\"}, \"description\": \"Sophisticated apartment with skyline views, steps away from galleries and theaters.\"}, {\"id\": 21, \"price_usd\": 280000, \"bedrooms\": 2, \"bathrooms\": 2, \"area_sqft\": 1600, \"location\": {\"neighborhood\": \"Belltown\", \"city\": \"Seattle\", \"state\": \"Washington\"}, \"description\": \"Modern condo with city views, close to waterfront parks and attractions.\"}, {\"id\": 22, \"price_usd\": 320000, \"bedrooms\": 3, \"bathrooms\": 2, \"area_sqft\": 1900, \"location\": {\"neighborhood\": \"Fells Point\", \"city\": \"Baltimore\", \"state\": \"Maryland\"}, \"description\": \"Quaint rowhouse with original features, located in a historic waterfront community.\"}, {\"id\": 23, \"price_usd\": 330000, \"bedrooms\": 3, \"bathrooms\": 2, \"area_sqft\": 1800, \"location\": {\"neighborhood\": \"South End\", \"city\": \"Boston\", \"state\": \"Massachusetts\"}, \"description\": \"Victorian home with period details, walking distance to cafes and shops.\"}, {\"id\": 24, \"price_usd\": 290000, \"bedrooms\": 2, \"bathrooms\": 1, \"area_sqft\": 1500, \"location\": {\"neighborhood\": \"Logan Circle\", \"city\": \"Washington\", \"state\": \"District of Columbia\"}, \"description\": \"Cozy apartment in a bustling neighborhood, with easy access to transit.\"}, {\"id\": 25, \"price_usd\": 350000, \"bedrooms\": 4, \"bathrooms\": 3, \"area_sqft\": 2200, \"location\": {\"neighborhood\": \"Mission District\", \"city\": \"San Francisco\", \"state\": \"California\"}, \"description\": \"Hip loft with exposed brick and industrial charm, located in a vibrant neighborhood.\"}]'},\n",
              " {'role': 'user', 'content': 'Do you a new house ?'},\n",
              " {'role': 'assistant',\n",
              "  'content': 'Yes, I have several houses available. What are you looking for in a new house?'},\n",
              " {'role': 'user', 'content': 'I have 3 kids and a wife'},\n",
              " {'role': 'assistant',\n",
              "  'content': \"That's great! I can recommend a spacious 4-bedroom house with 3 bathrooms, perfect for a family of five. Would you like more details about this house?\"}]"
            ]
          },
          "metadata": {},
          "execution_count": 7
        }
      ]
    },
    {
      "cell_type": "code",
      "source": [],
      "metadata": {
        "id": "Q4Sw_vXokhG_"
      },
      "execution_count": null,
      "outputs": []
    },
    {
      "cell_type": "code",
      "source": [
        "call_bff(messages, \"I have only 200k \")"
      ],
      "metadata": {
        "colab": {
          "base_uri": "https://localhost:8080/"
        },
        "id": "4v9BiU4GI0RI",
        "outputId": "464130ef-015a-4db8-80eb-de27623c9ecd"
      },
      "execution_count": 8,
      "outputs": [
        {
          "output_type": "stream",
          "name": "stdout",
          "text": [
            "I understand your budget constraints. The price of the 4-bedroom house is $350,000. Considering your budget of $200,000, I can offer you a 10% discount, bringing the price down to $315,000. Would that work for you?\n",
            "{\n",
            "  \"id\": \"chatcmpl-99DaNruznG1FsCPnxszkTDLZ1FQ4b\",\n",
            "  \"object\": \"chat.completion\",\n",
            "  \"created\": 1711984203,\n",
            "  \"model\": \"gpt-3.5-turbo-0125\",\n",
            "  \"choices\": [\n",
            "    {\n",
            "      \"index\": 0,\n",
            "      \"message\": {\n",
            "        \"role\": \"assistant\",\n",
            "        \"content\": \"I understand your budget constraints. The price of the 4-bedroom house is $350,000. Considering your budget of $200,000, I can offer you a 10% discount, bringing the price down to $315,000. Would that work for you?\"\n",
            "      },\n",
            "      \"logprobs\": null,\n",
            "      \"finish_reason\": \"stop\"\n",
            "    }\n",
            "  ],\n",
            "  \"usage\": {\n",
            "    \"prompt_tokens\": 2239,\n",
            "    \"completion_tokens\": 55,\n",
            "    \"total_tokens\": 2294\n",
            "  },\n",
            "  \"system_fingerprint\": \"fp_3bc1b5746c\"\n",
            "}\n"
          ]
        },
        {
          "output_type": "execute_result",
          "data": {
            "text/plain": [
              "[{'role': 'system',\n",
              "  'content': 'I want you to negotiate (the value mentioned in the data is the cost value, when a customer asks the price should be increased by 10% and during the negotiation the minimal value should be at least 2% more) and answer the questions regarding the products, if you are unsure of the answer inform them that it is necessary to talk to a human. [{\"id\": 1, \"price_usd\": 250000, \"bedrooms\": 3, \"bathrooms\": 2, \"area_sqft\": 1800, \"location\": {\"neighborhood\": \"Downtown\", \"city\": \"New York\", \"state\": \"New York\"}, \"description\": \"Cozy apartment in the heart of Downtown, close to restaurants and shopping.\"}, {\"id\": 2, \"price_usd\": 350000, \"bedrooms\": 4, \"bathrooms\": 3, \"area_sqft\": 2400, \"location\": {\"neighborhood\": \"Brooklyn Heights\", \"city\": \"Brooklyn\", \"state\": \"New York\"}, \"description\": \"Spacious family home with a beautiful view of the Brooklyn Bridge.\"}, {\"id\": 3, \"price_usd\": 180000, \"bedrooms\": 2, \"bathrooms\": 1, \"area_sqft\": 1200, \"location\": {\"neighborhood\": \"Georgetown\", \"city\": \"Washington\", \"state\": \"District of Columbia\"}, \"description\": \"Charming townhouse in a historic neighborhood, perfect for young professionals.\"}, {\"id\": 4, \"price_usd\": 420000, \"bedrooms\": 5, \"bathrooms\": 4, \"area_sqft\": 3200, \"location\": {\"neighborhood\": \"Pacific Heights\", \"city\": \"San Francisco\", \"state\": \"California\"}, \"description\": \"Luxurious mansion with stunning views of the San Francisco Bay.\"}, {\"id\": 5, \"price_usd\": 300000, \"bedrooms\": 3, \"bathrooms\": 2, \"area_sqft\": 2000, \"location\": {\"neighborhood\": \"Beacon Hill\", \"city\": \"Boston\", \"state\": \"Massachusetts\"}, \"description\": \"Classic brownstone with modern updates, located in a historic neighborhood.\"}, {\"id\": 6, \"price_usd\": 280000, \"bedrooms\": 2, \"bathrooms\": 2, \"area_sqft\": 1600, \"location\": {\"neighborhood\": \"Old Town\", \"city\": \"Chicago\", \"state\": \"Illinois\"}, \"description\": \"Quaint duplex in a vibrant neighborhood, walking distance to shops and cafes.\"}, {\"id\": 7, \"price_usd\": 380000, \"bedrooms\": 4, \"bathrooms\": 3, \"area_sqft\": 2800, \"location\": {\"neighborhood\": \"Capitol Hill\", \"city\": \"Seattle\", \"state\": \"Washington\"}, \"description\": \"Modern townhouse with rooftop deck, ideal for entertaining.\"}, {\"id\": 8, \"price_usd\": 270000, \"bedrooms\": 3, \"bathrooms\": 2, \"area_sqft\": 1700, \"location\": {\"neighborhood\": \"Midtown\", \"city\": \"Atlanta\", \"state\": \"Georgia\"}, \"description\": \"Contemporary condo with city views, steps away from restaurants and nightlife.\"}, {\"id\": 9, \"price_usd\": 320000, \"bedrooms\": 3, \"bathrooms\": 2, \"area_sqft\": 1900, \"location\": {\"neighborhood\": \"North End\", \"city\": \"Boston\", \"state\": \"Massachusetts\"}, \"description\": \"Historic rowhouse with original details, nestled in a charming neighborhood.\"}, {\"id\": 10, \"price_usd\": 400000, \"bedrooms\": 4, \"bathrooms\": 3, \"area_sqft\": 2500, \"location\": {\"neighborhood\": \"South Beach\", \"city\": \"Miami\", \"state\": \"Florida\"}, \"description\": \"Beachfront condo with resort-style amenities, perfect for vacation living.\"}, {\"id\": 11, \"price_usd\": 260000, \"bedrooms\": 2, \"bathrooms\": 1, \"area_sqft\": 1500, \"location\": {\"neighborhood\": \"Nob Hill\", \"city\": \"San Francisco\", \"state\": \"California\"}, \"description\": \"Cozy apartment with views of the city skyline, located in a prestigious neighborhood.\"}, {\"id\": 12, \"price_usd\": 330000, \"bedrooms\": 3, \"bathrooms\": 2, \"area_sqft\": 1800, \"location\": {\"neighborhood\": \"Georgetown\", \"city\": \"Washington\", \"state\": \"District of Columbia\"}, \"description\": \"Renovated townhouse with private garden, close to parks and schools.\"}, {\"id\": 13, \"price_usd\": 290000, \"bedrooms\": 3, \"bathrooms\": 2, \"area_sqft\": 1700, \"location\": {\"neighborhood\": \"West Village\", \"city\": \"New York\", \"state\": \"New York\"}, \"description\": \"Charming brownstone with original details, steps away from cafes and boutiques.\"}, {\"id\": 14, \"price_usd\": 370000, \"bedrooms\": 4, \"bathrooms\": 3, \"area_sqft\": 2200, \"location\": {\"neighborhood\": \"Gold Coast\", \"city\": \"Chicago\", \"state\": \"Illinois\"}, \"description\": \"Elegant townhouse with views of Lake Michigan, located in a prestigious neighborhood.\"}, {\"id\": 15, \"price_usd\": 310000, \"bedrooms\": 3, \"bathrooms\": 2, \"area_sqft\": 1900, \"location\": {\"neighborhood\": \"Fenway\", \"city\": \"Boston\", \"state\": \"Massachusetts\"}, \"description\": \"Spacious condo overlooking the ballpark, perfect for sports enthusiasts.\"}, {\"id\": 16, \"price_usd\": 260000, \"bedrooms\": 2, \"bathrooms\": 2, \"area_sqft\": 1600, \"location\": {\"neighborhood\": \"Dupont Circle\", \"city\": \"Washington\", \"state\": \"District of Columbia\"}, \"description\": \"Modern loft with high ceilings and natural light, located in a trendy neighborhood.\"}, {\"id\": 17, \"price_usd\": 340000, \"bedrooms\": 4, \"bathrooms\": 3, \"area_sqft\": 2100, \"location\": {\"neighborhood\": \"Pacific Heights\", \"city\": \"San Francisco\", \"state\": \"California\"}, \"description\": \"Stylish Victorian home with bay views, close to shops and restaurants.\"}, {\"id\": 18, \"price_usd\": 280000, \"bedrooms\": 3, \"bathrooms\": 2, \"area_sqft\": 1800, \"location\": {\"neighborhood\": \"Midtown\", \"city\": \"Atlanta\", \"state\": \"Georgia\"}, \"description\": \"Contemporary townhouse with rooftop terrace, perfect for outdoor entertaining.\"}, {\"id\": 19, \"price_usd\": 300000, \"bedrooms\": 3, \"bathrooms\": 2, \"area_sqft\": 1900, \"location\": {\"neighborhood\": \"Old Town\", \"city\": \"Chicago\", \"state\": \"Illinois\"}, \"description\": \"Historic rowhouse with modern updates, located in a vibrant neighborhood.\"}, {\"id\": 20, \"price_usd\": 370000, \"bedrooms\": 4, \"bathrooms\": 3, \"area_sqft\": 2200, \"location\": {\"neighborhood\": \"Greenwich Village\", \"city\": \"New York\", \"state\": \"New York\"}, \"description\": \"Sophisticated apartment with skyline views, steps away from galleries and theaters.\"}, {\"id\": 21, \"price_usd\": 280000, \"bedrooms\": 2, \"bathrooms\": 2, \"area_sqft\": 1600, \"location\": {\"neighborhood\": \"Belltown\", \"city\": \"Seattle\", \"state\": \"Washington\"}, \"description\": \"Modern condo with city views, close to waterfront parks and attractions.\"}, {\"id\": 22, \"price_usd\": 320000, \"bedrooms\": 3, \"bathrooms\": 2, \"area_sqft\": 1900, \"location\": {\"neighborhood\": \"Fells Point\", \"city\": \"Baltimore\", \"state\": \"Maryland\"}, \"description\": \"Quaint rowhouse with original features, located in a historic waterfront community.\"}, {\"id\": 23, \"price_usd\": 330000, \"bedrooms\": 3, \"bathrooms\": 2, \"area_sqft\": 1800, \"location\": {\"neighborhood\": \"South End\", \"city\": \"Boston\", \"state\": \"Massachusetts\"}, \"description\": \"Victorian home with period details, walking distance to cafes and shops.\"}, {\"id\": 24, \"price_usd\": 290000, \"bedrooms\": 2, \"bathrooms\": 1, \"area_sqft\": 1500, \"location\": {\"neighborhood\": \"Logan Circle\", \"city\": \"Washington\", \"state\": \"District of Columbia\"}, \"description\": \"Cozy apartment in a bustling neighborhood, with easy access to transit.\"}, {\"id\": 25, \"price_usd\": 350000, \"bedrooms\": 4, \"bathrooms\": 3, \"area_sqft\": 2200, \"location\": {\"neighborhood\": \"Mission District\", \"city\": \"San Francisco\", \"state\": \"California\"}, \"description\": \"Hip loft with exposed brick and industrial charm, located in a vibrant neighborhood.\"}]'},\n",
              " {'role': 'user', 'content': 'Do you a new house ?'},\n",
              " {'role': 'assistant',\n",
              "  'content': 'Yes, I have several houses available. What are you looking for in a new house?'},\n",
              " {'role': 'user', 'content': 'I have 3 kids and a wife'},\n",
              " {'role': 'assistant',\n",
              "  'content': \"That's great! I can recommend a spacious 4-bedroom house with 3 bathrooms, perfect for a family of five. Would you like more details about this house?\"},\n",
              " {'role': 'user', 'content': 'I have only 200k '},\n",
              " {'role': 'assistant',\n",
              "  'content': 'I understand your budget constraints. The price of the 4-bedroom house is $350,000. Considering your budget of $200,000, I can offer you a 10% discount, bringing the price down to $315,000. Would that work for you?'}]"
            ]
          },
          "metadata": {},
          "execution_count": 8
        }
      ]
    },
    {
      "cell_type": "code",
      "source": [
        "call_bff(messages, \"Its possible for 220k\")"
      ],
      "metadata": {
        "colab": {
          "base_uri": "https://localhost:8080/"
        },
        "id": "Z5Cevp4NEzaJ",
        "outputId": "f7bd8955-dcb7-40d0-9b82-23e9889babed"
      },
      "execution_count": 9,
      "outputs": [
        {
          "output_type": "stream",
          "name": "stdout",
          "text": [
            "I appreciate your offer of $220,000. Given the original price of $350,000, a 10% discount would bring the price down to $315,000. However, I can offer you a 7% discount, bringing the price to $325,500. Would that be acceptable to you?\n",
            "{\n",
            "  \"id\": \"chatcmpl-99DaptIUq2q330vWYSNPm7r77ypHG\",\n",
            "  \"object\": \"chat.completion\",\n",
            "  \"created\": 1711984231,\n",
            "  \"model\": \"gpt-3.5-turbo-0125\",\n",
            "  \"choices\": [\n",
            "    {\n",
            "      \"index\": 0,\n",
            "      \"message\": {\n",
            "        \"role\": \"assistant\",\n",
            "        \"content\": \"I appreciate your offer of $220,000. Given the original price of $350,000, a 10% discount would bring the price down to $315,000. However, I can offer you a 7% discount, bringing the price to $325,500. Would that be acceptable to you?\"\n",
            "      },\n",
            "      \"logprobs\": null,\n",
            "      \"finish_reason\": \"stop\"\n",
            "    }\n",
            "  ],\n",
            "  \"usage\": {\n",
            "    \"prompt_tokens\": 2308,\n",
            "    \"completion_tokens\": 64,\n",
            "    \"total_tokens\": 2372\n",
            "  },\n",
            "  \"system_fingerprint\": \"fp_b28b39ffa8\"\n",
            "}\n"
          ]
        },
        {
          "output_type": "execute_result",
          "data": {
            "text/plain": [
              "[{'role': 'system',\n",
              "  'content': 'I want you to negotiate (the value mentioned in the data is the cost value, when a customer asks the price should be increased by 10% and during the negotiation the minimal value should be at least 2% more) and answer the questions regarding the products, if you are unsure of the answer inform them that it is necessary to talk to a human. [{\"id\": 1, \"price_usd\": 250000, \"bedrooms\": 3, \"bathrooms\": 2, \"area_sqft\": 1800, \"location\": {\"neighborhood\": \"Downtown\", \"city\": \"New York\", \"state\": \"New York\"}, \"description\": \"Cozy apartment in the heart of Downtown, close to restaurants and shopping.\"}, {\"id\": 2, \"price_usd\": 350000, \"bedrooms\": 4, \"bathrooms\": 3, \"area_sqft\": 2400, \"location\": {\"neighborhood\": \"Brooklyn Heights\", \"city\": \"Brooklyn\", \"state\": \"New York\"}, \"description\": \"Spacious family home with a beautiful view of the Brooklyn Bridge.\"}, {\"id\": 3, \"price_usd\": 180000, \"bedrooms\": 2, \"bathrooms\": 1, \"area_sqft\": 1200, \"location\": {\"neighborhood\": \"Georgetown\", \"city\": \"Washington\", \"state\": \"District of Columbia\"}, \"description\": \"Charming townhouse in a historic neighborhood, perfect for young professionals.\"}, {\"id\": 4, \"price_usd\": 420000, \"bedrooms\": 5, \"bathrooms\": 4, \"area_sqft\": 3200, \"location\": {\"neighborhood\": \"Pacific Heights\", \"city\": \"San Francisco\", \"state\": \"California\"}, \"description\": \"Luxurious mansion with stunning views of the San Francisco Bay.\"}, {\"id\": 5, \"price_usd\": 300000, \"bedrooms\": 3, \"bathrooms\": 2, \"area_sqft\": 2000, \"location\": {\"neighborhood\": \"Beacon Hill\", \"city\": \"Boston\", \"state\": \"Massachusetts\"}, \"description\": \"Classic brownstone with modern updates, located in a historic neighborhood.\"}, {\"id\": 6, \"price_usd\": 280000, \"bedrooms\": 2, \"bathrooms\": 2, \"area_sqft\": 1600, \"location\": {\"neighborhood\": \"Old Town\", \"city\": \"Chicago\", \"state\": \"Illinois\"}, \"description\": \"Quaint duplex in a vibrant neighborhood, walking distance to shops and cafes.\"}, {\"id\": 7, \"price_usd\": 380000, \"bedrooms\": 4, \"bathrooms\": 3, \"area_sqft\": 2800, \"location\": {\"neighborhood\": \"Capitol Hill\", \"city\": \"Seattle\", \"state\": \"Washington\"}, \"description\": \"Modern townhouse with rooftop deck, ideal for entertaining.\"}, {\"id\": 8, \"price_usd\": 270000, \"bedrooms\": 3, \"bathrooms\": 2, \"area_sqft\": 1700, \"location\": {\"neighborhood\": \"Midtown\", \"city\": \"Atlanta\", \"state\": \"Georgia\"}, \"description\": \"Contemporary condo with city views, steps away from restaurants and nightlife.\"}, {\"id\": 9, \"price_usd\": 320000, \"bedrooms\": 3, \"bathrooms\": 2, \"area_sqft\": 1900, \"location\": {\"neighborhood\": \"North End\", \"city\": \"Boston\", \"state\": \"Massachusetts\"}, \"description\": \"Historic rowhouse with original details, nestled in a charming neighborhood.\"}, {\"id\": 10, \"price_usd\": 400000, \"bedrooms\": 4, \"bathrooms\": 3, \"area_sqft\": 2500, \"location\": {\"neighborhood\": \"South Beach\", \"city\": \"Miami\", \"state\": \"Florida\"}, \"description\": \"Beachfront condo with resort-style amenities, perfect for vacation living.\"}, {\"id\": 11, \"price_usd\": 260000, \"bedrooms\": 2, \"bathrooms\": 1, \"area_sqft\": 1500, \"location\": {\"neighborhood\": \"Nob Hill\", \"city\": \"San Francisco\", \"state\": \"California\"}, \"description\": \"Cozy apartment with views of the city skyline, located in a prestigious neighborhood.\"}, {\"id\": 12, \"price_usd\": 330000, \"bedrooms\": 3, \"bathrooms\": 2, \"area_sqft\": 1800, \"location\": {\"neighborhood\": \"Georgetown\", \"city\": \"Washington\", \"state\": \"District of Columbia\"}, \"description\": \"Renovated townhouse with private garden, close to parks and schools.\"}, {\"id\": 13, \"price_usd\": 290000, \"bedrooms\": 3, \"bathrooms\": 2, \"area_sqft\": 1700, \"location\": {\"neighborhood\": \"West Village\", \"city\": \"New York\", \"state\": \"New York\"}, \"description\": \"Charming brownstone with original details, steps away from cafes and boutiques.\"}, {\"id\": 14, \"price_usd\": 370000, \"bedrooms\": 4, \"bathrooms\": 3, \"area_sqft\": 2200, \"location\": {\"neighborhood\": \"Gold Coast\", \"city\": \"Chicago\", \"state\": \"Illinois\"}, \"description\": \"Elegant townhouse with views of Lake Michigan, located in a prestigious neighborhood.\"}, {\"id\": 15, \"price_usd\": 310000, \"bedrooms\": 3, \"bathrooms\": 2, \"area_sqft\": 1900, \"location\": {\"neighborhood\": \"Fenway\", \"city\": \"Boston\", \"state\": \"Massachusetts\"}, \"description\": \"Spacious condo overlooking the ballpark, perfect for sports enthusiasts.\"}, {\"id\": 16, \"price_usd\": 260000, \"bedrooms\": 2, \"bathrooms\": 2, \"area_sqft\": 1600, \"location\": {\"neighborhood\": \"Dupont Circle\", \"city\": \"Washington\", \"state\": \"District of Columbia\"}, \"description\": \"Modern loft with high ceilings and natural light, located in a trendy neighborhood.\"}, {\"id\": 17, \"price_usd\": 340000, \"bedrooms\": 4, \"bathrooms\": 3, \"area_sqft\": 2100, \"location\": {\"neighborhood\": \"Pacific Heights\", \"city\": \"San Francisco\", \"state\": \"California\"}, \"description\": \"Stylish Victorian home with bay views, close to shops and restaurants.\"}, {\"id\": 18, \"price_usd\": 280000, \"bedrooms\": 3, \"bathrooms\": 2, \"area_sqft\": 1800, \"location\": {\"neighborhood\": \"Midtown\", \"city\": \"Atlanta\", \"state\": \"Georgia\"}, \"description\": \"Contemporary townhouse with rooftop terrace, perfect for outdoor entertaining.\"}, {\"id\": 19, \"price_usd\": 300000, \"bedrooms\": 3, \"bathrooms\": 2, \"area_sqft\": 1900, \"location\": {\"neighborhood\": \"Old Town\", \"city\": \"Chicago\", \"state\": \"Illinois\"}, \"description\": \"Historic rowhouse with modern updates, located in a vibrant neighborhood.\"}, {\"id\": 20, \"price_usd\": 370000, \"bedrooms\": 4, \"bathrooms\": 3, \"area_sqft\": 2200, \"location\": {\"neighborhood\": \"Greenwich Village\", \"city\": \"New York\", \"state\": \"New York\"}, \"description\": \"Sophisticated apartment with skyline views, steps away from galleries and theaters.\"}, {\"id\": 21, \"price_usd\": 280000, \"bedrooms\": 2, \"bathrooms\": 2, \"area_sqft\": 1600, \"location\": {\"neighborhood\": \"Belltown\", \"city\": \"Seattle\", \"state\": \"Washington\"}, \"description\": \"Modern condo with city views, close to waterfront parks and attractions.\"}, {\"id\": 22, \"price_usd\": 320000, \"bedrooms\": 3, \"bathrooms\": 2, \"area_sqft\": 1900, \"location\": {\"neighborhood\": \"Fells Point\", \"city\": \"Baltimore\", \"state\": \"Maryland\"}, \"description\": \"Quaint rowhouse with original features, located in a historic waterfront community.\"}, {\"id\": 23, \"price_usd\": 330000, \"bedrooms\": 3, \"bathrooms\": 2, \"area_sqft\": 1800, \"location\": {\"neighborhood\": \"South End\", \"city\": \"Boston\", \"state\": \"Massachusetts\"}, \"description\": \"Victorian home with period details, walking distance to cafes and shops.\"}, {\"id\": 24, \"price_usd\": 290000, \"bedrooms\": 2, \"bathrooms\": 1, \"area_sqft\": 1500, \"location\": {\"neighborhood\": \"Logan Circle\", \"city\": \"Washington\", \"state\": \"District of Columbia\"}, \"description\": \"Cozy apartment in a bustling neighborhood, with easy access to transit.\"}, {\"id\": 25, \"price_usd\": 350000, \"bedrooms\": 4, \"bathrooms\": 3, \"area_sqft\": 2200, \"location\": {\"neighborhood\": \"Mission District\", \"city\": \"San Francisco\", \"state\": \"California\"}, \"description\": \"Hip loft with exposed brick and industrial charm, located in a vibrant neighborhood.\"}]'},\n",
              " {'role': 'user', 'content': 'Do you a new house ?'},\n",
              " {'role': 'assistant',\n",
              "  'content': 'Yes, I have several houses available. What are you looking for in a new house?'},\n",
              " {'role': 'user', 'content': 'I have 3 kids and a wife'},\n",
              " {'role': 'assistant',\n",
              "  'content': \"That's great! I can recommend a spacious 4-bedroom house with 3 bathrooms, perfect for a family of five. Would you like more details about this house?\"},\n",
              " {'role': 'user', 'content': 'I have only 200k '},\n",
              " {'role': 'assistant',\n",
              "  'content': 'I understand your budget constraints. The price of the 4-bedroom house is $350,000. Considering your budget of $200,000, I can offer you a 10% discount, bringing the price down to $315,000. Would that work for you?'},\n",
              " {'role': 'user', 'content': 'Its possible for 220k'},\n",
              " {'role': 'assistant',\n",
              "  'content': 'I appreciate your offer of $220,000. Given the original price of $350,000, a 10% discount would bring the price down to $315,000. However, I can offer you a 7% discount, bringing the price to $325,500. Would that be acceptable to you?'}]"
            ]
          },
          "metadata": {},
          "execution_count": 9
        }
      ]
    },
    {
      "cell_type": "code",
      "source": [
        "call_bff(messages, \"I really just have 220k\")"
      ],
      "metadata": {
        "colab": {
          "base_uri": "https://localhost:8080/"
        },
        "id": "a-mlzWYsHXTR",
        "outputId": "0b9882ce-6475-4c44-9561-c4e9dd6ad957"
      },
      "execution_count": 10,
      "outputs": [
        {
          "output_type": "stream",
          "name": "stdout",
          "text": [
            "I understand your budget limitations. I can offer you a 5% discount, bringing the price down to $332,500. This is the lowest I can go considering the original price of $350,000. Would you like to proceed with this offer for the 4-bedroom house?\n",
            "{\n",
            "  \"id\": \"chatcmpl-99DbEW7Kq9uJrDtgmo3kLqYXTeA26\",\n",
            "  \"object\": \"chat.completion\",\n",
            "  \"created\": 1711984256,\n",
            "  \"model\": \"gpt-3.5-turbo-0125\",\n",
            "  \"choices\": [\n",
            "    {\n",
            "      \"index\": 0,\n",
            "      \"message\": {\n",
            "        \"role\": \"assistant\",\n",
            "        \"content\": \"I understand your budget limitations. I can offer you a 5% discount, bringing the price down to $332,500. This is the lowest I can go considering the original price of $350,000. Would you like to proceed with this offer for the 4-bedroom house?\"\n",
            "      },\n",
            "      \"logprobs\": null,\n",
            "      \"finish_reason\": \"stop\"\n",
            "    }\n",
            "  ],\n",
            "  \"usage\": {\n",
            "    \"prompt_tokens\": 2387,\n",
            "    \"completion_tokens\": 58,\n",
            "    \"total_tokens\": 2445\n",
            "  },\n",
            "  \"system_fingerprint\": \"fp_b28b39ffa8\"\n",
            "}\n"
          ]
        },
        {
          "output_type": "execute_result",
          "data": {
            "text/plain": [
              "[{'role': 'system',\n",
              "  'content': 'I want you to negotiate (the value mentioned in the data is the cost value, when a customer asks the price should be increased by 10% and during the negotiation the minimal value should be at least 2% more) and answer the questions regarding the products, if you are unsure of the answer inform them that it is necessary to talk to a human. [{\"id\": 1, \"price_usd\": 250000, \"bedrooms\": 3, \"bathrooms\": 2, \"area_sqft\": 1800, \"location\": {\"neighborhood\": \"Downtown\", \"city\": \"New York\", \"state\": \"New York\"}, \"description\": \"Cozy apartment in the heart of Downtown, close to restaurants and shopping.\"}, {\"id\": 2, \"price_usd\": 350000, \"bedrooms\": 4, \"bathrooms\": 3, \"area_sqft\": 2400, \"location\": {\"neighborhood\": \"Brooklyn Heights\", \"city\": \"Brooklyn\", \"state\": \"New York\"}, \"description\": \"Spacious family home with a beautiful view of the Brooklyn Bridge.\"}, {\"id\": 3, \"price_usd\": 180000, \"bedrooms\": 2, \"bathrooms\": 1, \"area_sqft\": 1200, \"location\": {\"neighborhood\": \"Georgetown\", \"city\": \"Washington\", \"state\": \"District of Columbia\"}, \"description\": \"Charming townhouse in a historic neighborhood, perfect for young professionals.\"}, {\"id\": 4, \"price_usd\": 420000, \"bedrooms\": 5, \"bathrooms\": 4, \"area_sqft\": 3200, \"location\": {\"neighborhood\": \"Pacific Heights\", \"city\": \"San Francisco\", \"state\": \"California\"}, \"description\": \"Luxurious mansion with stunning views of the San Francisco Bay.\"}, {\"id\": 5, \"price_usd\": 300000, \"bedrooms\": 3, \"bathrooms\": 2, \"area_sqft\": 2000, \"location\": {\"neighborhood\": \"Beacon Hill\", \"city\": \"Boston\", \"state\": \"Massachusetts\"}, \"description\": \"Classic brownstone with modern updates, located in a historic neighborhood.\"}, {\"id\": 6, \"price_usd\": 280000, \"bedrooms\": 2, \"bathrooms\": 2, \"area_sqft\": 1600, \"location\": {\"neighborhood\": \"Old Town\", \"city\": \"Chicago\", \"state\": \"Illinois\"}, \"description\": \"Quaint duplex in a vibrant neighborhood, walking distance to shops and cafes.\"}, {\"id\": 7, \"price_usd\": 380000, \"bedrooms\": 4, \"bathrooms\": 3, \"area_sqft\": 2800, \"location\": {\"neighborhood\": \"Capitol Hill\", \"city\": \"Seattle\", \"state\": \"Washington\"}, \"description\": \"Modern townhouse with rooftop deck, ideal for entertaining.\"}, {\"id\": 8, \"price_usd\": 270000, \"bedrooms\": 3, \"bathrooms\": 2, \"area_sqft\": 1700, \"location\": {\"neighborhood\": \"Midtown\", \"city\": \"Atlanta\", \"state\": \"Georgia\"}, \"description\": \"Contemporary condo with city views, steps away from restaurants and nightlife.\"}, {\"id\": 9, \"price_usd\": 320000, \"bedrooms\": 3, \"bathrooms\": 2, \"area_sqft\": 1900, \"location\": {\"neighborhood\": \"North End\", \"city\": \"Boston\", \"state\": \"Massachusetts\"}, \"description\": \"Historic rowhouse with original details, nestled in a charming neighborhood.\"}, {\"id\": 10, \"price_usd\": 400000, \"bedrooms\": 4, \"bathrooms\": 3, \"area_sqft\": 2500, \"location\": {\"neighborhood\": \"South Beach\", \"city\": \"Miami\", \"state\": \"Florida\"}, \"description\": \"Beachfront condo with resort-style amenities, perfect for vacation living.\"}, {\"id\": 11, \"price_usd\": 260000, \"bedrooms\": 2, \"bathrooms\": 1, \"area_sqft\": 1500, \"location\": {\"neighborhood\": \"Nob Hill\", \"city\": \"San Francisco\", \"state\": \"California\"}, \"description\": \"Cozy apartment with views of the city skyline, located in a prestigious neighborhood.\"}, {\"id\": 12, \"price_usd\": 330000, \"bedrooms\": 3, \"bathrooms\": 2, \"area_sqft\": 1800, \"location\": {\"neighborhood\": \"Georgetown\", \"city\": \"Washington\", \"state\": \"District of Columbia\"}, \"description\": \"Renovated townhouse with private garden, close to parks and schools.\"}, {\"id\": 13, \"price_usd\": 290000, \"bedrooms\": 3, \"bathrooms\": 2, \"area_sqft\": 1700, \"location\": {\"neighborhood\": \"West Village\", \"city\": \"New York\", \"state\": \"New York\"}, \"description\": \"Charming brownstone with original details, steps away from cafes and boutiques.\"}, {\"id\": 14, \"price_usd\": 370000, \"bedrooms\": 4, \"bathrooms\": 3, \"area_sqft\": 2200, \"location\": {\"neighborhood\": \"Gold Coast\", \"city\": \"Chicago\", \"state\": \"Illinois\"}, \"description\": \"Elegant townhouse with views of Lake Michigan, located in a prestigious neighborhood.\"}, {\"id\": 15, \"price_usd\": 310000, \"bedrooms\": 3, \"bathrooms\": 2, \"area_sqft\": 1900, \"location\": {\"neighborhood\": \"Fenway\", \"city\": \"Boston\", \"state\": \"Massachusetts\"}, \"description\": \"Spacious condo overlooking the ballpark, perfect for sports enthusiasts.\"}, {\"id\": 16, \"price_usd\": 260000, \"bedrooms\": 2, \"bathrooms\": 2, \"area_sqft\": 1600, \"location\": {\"neighborhood\": \"Dupont Circle\", \"city\": \"Washington\", \"state\": \"District of Columbia\"}, \"description\": \"Modern loft with high ceilings and natural light, located in a trendy neighborhood.\"}, {\"id\": 17, \"price_usd\": 340000, \"bedrooms\": 4, \"bathrooms\": 3, \"area_sqft\": 2100, \"location\": {\"neighborhood\": \"Pacific Heights\", \"city\": \"San Francisco\", \"state\": \"California\"}, \"description\": \"Stylish Victorian home with bay views, close to shops and restaurants.\"}, {\"id\": 18, \"price_usd\": 280000, \"bedrooms\": 3, \"bathrooms\": 2, \"area_sqft\": 1800, \"location\": {\"neighborhood\": \"Midtown\", \"city\": \"Atlanta\", \"state\": \"Georgia\"}, \"description\": \"Contemporary townhouse with rooftop terrace, perfect for outdoor entertaining.\"}, {\"id\": 19, \"price_usd\": 300000, \"bedrooms\": 3, \"bathrooms\": 2, \"area_sqft\": 1900, \"location\": {\"neighborhood\": \"Old Town\", \"city\": \"Chicago\", \"state\": \"Illinois\"}, \"description\": \"Historic rowhouse with modern updates, located in a vibrant neighborhood.\"}, {\"id\": 20, \"price_usd\": 370000, \"bedrooms\": 4, \"bathrooms\": 3, \"area_sqft\": 2200, \"location\": {\"neighborhood\": \"Greenwich Village\", \"city\": \"New York\", \"state\": \"New York\"}, \"description\": \"Sophisticated apartment with skyline views, steps away from galleries and theaters.\"}, {\"id\": 21, \"price_usd\": 280000, \"bedrooms\": 2, \"bathrooms\": 2, \"area_sqft\": 1600, \"location\": {\"neighborhood\": \"Belltown\", \"city\": \"Seattle\", \"state\": \"Washington\"}, \"description\": \"Modern condo with city views, close to waterfront parks and attractions.\"}, {\"id\": 22, \"price_usd\": 320000, \"bedrooms\": 3, \"bathrooms\": 2, \"area_sqft\": 1900, \"location\": {\"neighborhood\": \"Fells Point\", \"city\": \"Baltimore\", \"state\": \"Maryland\"}, \"description\": \"Quaint rowhouse with original features, located in a historic waterfront community.\"}, {\"id\": 23, \"price_usd\": 330000, \"bedrooms\": 3, \"bathrooms\": 2, \"area_sqft\": 1800, \"location\": {\"neighborhood\": \"South End\", \"city\": \"Boston\", \"state\": \"Massachusetts\"}, \"description\": \"Victorian home with period details, walking distance to cafes and shops.\"}, {\"id\": 24, \"price_usd\": 290000, \"bedrooms\": 2, \"bathrooms\": 1, \"area_sqft\": 1500, \"location\": {\"neighborhood\": \"Logan Circle\", \"city\": \"Washington\", \"state\": \"District of Columbia\"}, \"description\": \"Cozy apartment in a bustling neighborhood, with easy access to transit.\"}, {\"id\": 25, \"price_usd\": 350000, \"bedrooms\": 4, \"bathrooms\": 3, \"area_sqft\": 2200, \"location\": {\"neighborhood\": \"Mission District\", \"city\": \"San Francisco\", \"state\": \"California\"}, \"description\": \"Hip loft with exposed brick and industrial charm, located in a vibrant neighborhood.\"}]'},\n",
              " {'role': 'user', 'content': 'Do you a new house ?'},\n",
              " {'role': 'assistant',\n",
              "  'content': 'Yes, I have several houses available. What are you looking for in a new house?'},\n",
              " {'role': 'user', 'content': 'I have 3 kids and a wife'},\n",
              " {'role': 'assistant',\n",
              "  'content': \"That's great! I can recommend a spacious 4-bedroom house with 3 bathrooms, perfect for a family of five. Would you like more details about this house?\"},\n",
              " {'role': 'user', 'content': 'I have only 200k '},\n",
              " {'role': 'assistant',\n",
              "  'content': 'I understand your budget constraints. The price of the 4-bedroom house is $350,000. Considering your budget of $200,000, I can offer you a 10% discount, bringing the price down to $315,000. Would that work for you?'},\n",
              " {'role': 'user', 'content': 'Its possible for 220k'},\n",
              " {'role': 'assistant',\n",
              "  'content': 'I appreciate your offer of $220,000. Given the original price of $350,000, a 10% discount would bring the price down to $315,000. However, I can offer you a 7% discount, bringing the price to $325,500. Would that be acceptable to you?'},\n",
              " {'role': 'user', 'content': 'I really just have 220k'},\n",
              " {'role': 'assistant',\n",
              "  'content': 'I understand your budget limitations. I can offer you a 5% discount, bringing the price down to $332,500. This is the lowest I can go considering the original price of $350,000. Would you like to proceed with this offer for the 4-bedroom house?'}]"
            ]
          },
          "metadata": {},
          "execution_count": 10
        }
      ]
    }
  ]
}